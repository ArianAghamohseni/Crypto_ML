{
 "cells": [
  {
   "cell_type": "markdown",
   "metadata": {},
   "source": [
    "\n",
    "\n",
    "\n",
    "<h2 align=center style=\"line-height:500%;font-family:vazir;color:#0099cc\">\n",
    "<font  color=\"#0099cc\">\n",
    "Problem 2: Hierarchical clustering</font>\n",
    "</h2>\n"
   ]
  },
  {
   "cell_type": "markdown",
   "metadata": {},
   "source": [
    "<h2 align=left style=\"line-height:200%;font-family:vazir;color:#0099cc\">\n",
    "<font  color=\"#0099cc\">\n",
    "Part 1\n",
    "</font>\n",
    "</h2>\n",
    "\n",
    "\n",
    "<p dir=rtl style=\"direction: rtl;text-align: justify;line-height:200%;font-family:vazir;font-size:medium\">\n",
    "<font face=\"vazir\" size=3>\n",
    "ابتدا تنها با در نظر گرفتن دو ویژگی‌ <code>market cap</code> و <code>volume</code>، الگوریتم خوشه‌بندی سلسله‌مراتبی را اجرا کرده و دندوگرام (Dendrogram) به‌دست‌آمده را نمایش دهید. با توجه به نتیجه‌ی حاصل‌شده، چنان‌چه بخواهیم این ۲۰ رمزارز را به ۲ خوشه‌ی مجزا تقسیم کنیم، این دو خوشه را مشخص کنید و سعی کنید برای نتایج حاصل را تحلیل و تفسیر کنید.\n",
    "</font>\n",
    "</p>\n"
   ]
  },
  {
   "cell_type": "markdown",
   "metadata": {},
   "source": [
    "Prepping the data:"
   ]
  },
  {
   "cell_type": "code",
   "execution_count": 42,
   "metadata": {},
   "outputs": [],
   "source": [
    "import pandas as pd\n",
    "import matplotlib.pyplot as plt\n",
    "import scipy.cluster.hierarchy as sch\n",
    "from sklearn.cluster import AgglomerativeClustering\n",
    "\n",
    "coin_data = pd.read_excel(r'D:\\Sharif University of Tech\\Data Sience Boot Camp\\Project\\Second Phaze\\Part_2\\coins_data.xlsx')\n",
    "\n",
    "features = coin_data[['MarketCap', 'Volume']]"
   ]
  },
  {
   "cell_type": "markdown",
   "metadata": {},
   "source": [
    "Performing hierarchical clustering and the dendogram:"
   ]
  },
  {
   "cell_type": "code",
   "execution_count": 43,
   "metadata": {},
   "outputs": [
    {
     "data": {
      "image/png": "[encoded data removed]",
      "text/plain": [
       "<Figure size 1200x800 with 1 Axes>"
      ]
     },
     "metadata": {},
     "output_type": "display_data"
    }
   ],
   "source": [
    "from scipy.cluster.hierarchy import dendrogram, linkage\n",
    "import matplotlib.pyplot as plt\n",
    "\n",
    "Z = linkage(features, method='ward')\n",
    "plt.figure(figsize=(12, 8))\n",
    "dendrogram(Z, orientation='top')\n",
    "plt.title('Dendrogram')\n",
    "plt.xlabel('Data Points')\n",
    "plt.ylabel('Distance')\n",
    "\n",
    "plt.show()"
   ]
  },
  {
   "cell_type": "markdown",
   "metadata": {},
   "source": [
    "Assuming the number of clusters is 2:"
   ]
  },
  {
   "cell_type": "code",
   "execution_count": 44,
   "metadata": {},
   "outputs": [],
   "source": [
    "n_clusters = 2\n",
    "hc = AgglomerativeClustering(n_clusters=n_clusters, affinity='euclidean', linkage='ward')\n",
    "coin_data['Cluster'] = hc.fit_predict(features)"
   ]
  },
  {
   "cell_type": "code",
   "execution_count": 45,
   "metadata": {},
   "outputs": [
    {
     "name": "stdout",
     "output_type": "stream",
     "text": [
      "Cryptocurrencies in Cluster 0:\n",
      "   Symbol        Volume     MarketCap      TotalSupply   ProofType  \\\n",
      "0     LEO  1.823284e+06  3.586504e+09        985239504         PoS   \n",
      "1     UNI  9.918768e+07  3.992451e+09       1000000000         PoS   \n",
      "2    WBTC  1.415410e+08  4.237575e+09           163106         PoW   \n",
      "3    AVAX  2.197065e+08  4.901630e+09        431804080         PoS   \n",
      "4     DAI  2.177113e+08  5.513661e+09       5347888596  stablecoin   \n",
      "5    SHIB  2.479944e+08  5.606251e+09  589589040239380         PoS   \n",
      "6     LTC  5.913019e+08  5.729295e+09         84000000         PoW   \n",
      "7     TRX  2.719028e+08  6.018922e+09      88996805683         PoS   \n",
      "8     DOT  2.035592e+08  6.659550e+09       1364182225         PoW   \n",
      "9   MATIC  4.232990e+08  8.053185e+09      10000000000         PoS   \n",
      "10    SOL  6.338963e+08  8.349993e+09        559509636         PoH   \n",
      "11   DOGE  6.311493e+08  1.034239e+10     141339436384         PoW   \n",
      "12    ADA  3.647996e+08  1.210914e+10      36244287753         PoS   \n",
      "13   BUSD  5.084396e+09  1.213299e+10       2213836281  stablecoin   \n",
      "14    XRP  1.349225e+09  2.358166e+10      99988380689        RPCA   \n",
      "15   USDC  3.665726e+09  3.731741e+10      25540319537  stablecoin   \n",
      "16    BNB  6.807966e+08  4.459966e+10        153845639         PoS   \n",
      "17   USDT  3.314948e+10  7.458818e+10        866300000  stablecoin   \n",
      "18    ETH  8.843689e+09  1.960824e+11        120249203         PoS   \n",
      "\n",
      "                Network  Cluster  \n",
      "0              Ethereum        0  \n",
      "1              Ethereum        0  \n",
      "2              Ethereum        0  \n",
      "3             Avalanche        0  \n",
      "4              Ethereum        0  \n",
      "5              Ethereum        0  \n",
      "6              Litecoin        0  \n",
      "7                  Tron        0  \n",
      "8              Polkadot        0  \n",
      "9               Polygon        0  \n",
      "10               Solana        0  \n",
      "11             Dogecoin        0  \n",
      "12              Cardano        0  \n",
      "13  Binance Smart Chain        0  \n",
      "14           XRP Ledger        0  \n",
      "15             Ethereum        0  \n",
      "16  Binance Smart Chain        0  \n",
      "17             Ethereum        0  \n",
      "18             Ethereum        0  \n",
      "\n",
      "Cryptocurrencies in Cluster 1:\n",
      "   Symbol        Volume     MarketCap  TotalSupply ProofType  Network  Cluster\n",
      "19    BTC  2.296764e+10  4.590837e+11     19508418       PoW  Bitcoin        1\n"
     ]
    }
   ],
   "source": [
    "cluster_0 = coin_data[coin_data['Cluster'] == 0]\n",
    "cluster_1 = coin_data[coin_data['Cluster'] == 1]\n",
    "\n",
    "print(\"Cryptocurrencies in Cluster 0:\")\n",
    "print(cluster_0)\n",
    "\n",
    "print(\"\\nCryptocurrencies in Cluster 1:\")\n",
    "print(cluster_1)"
   ]
  },
  {
   "cell_type": "markdown",
   "metadata": {},
   "source": [
    "<h2 align=left style=\"line-height:150%;font-family:vazir;color:#0099cc\">\n",
    "<font  color=\"#0099cc\">\n",
    "Cluster 0 (Cryptocurrencies with Lower Market Cap and Volume):\n",
    "</font>\n",
    "</h2>\n",
    "\n",
    "This cluster contains the majority of the cryptocurrencies, including LEO, UNI, WBTC, AVAX, and others.\n",
    "\n",
    "These cryptocurrencies generally have lower market capitalization and trading volume compared to those in Cluster 1.\n",
    "Proof types in this cluster vary between PoS, PoW, stablecoin, PoH, and RPCA, indicating diversity in the types of cryptocurrencies."
   ]
  },
  {
   "cell_type": "markdown",
   "metadata": {},
   "source": [
    "<h2 align=left style=\"line-height:200%;font-family:vazir;color:#0099cc\">\n",
    "<font  color=\"#0099cc\">\n",
    "Cluster 1 (Cryptocurrency with High Market Cap and Volume):\n",
    "</font>\n",
    "</h2>\n",
    "\n",
    "This cluster contains a single cryptocurrency, which is Bitcoin (BTC).\n",
    "\n",
    "Bitcoin stands out as the cryptocurrency with the highest market capitalization and trading volume among the 20 cryptocurrencies."
   ]
  },
  {
   "cell_type": "markdown",
   "metadata": {},
   "source": [
    "The model has grouped cryptocurrencies based on their market cap and volume. \n",
    "\n",
    "As expected it has separated Bitcoin, which is notably different from the rest of the cryptocurrencies due to its much higher market capitalization and trading volume."
   ]
  },
  {
   "cell_type": "markdown",
   "metadata": {},
   "source": [
    "If we were to need more meaningfull clusters or different groupings, we could experiment with different clustering techniques, features, or adjust the number of clusters based on our specific goal."
   ]
  },
  {
   "cell_type": "markdown",
   "metadata": {},
   "source": [
    "<h2 align=left style=\"line-height:200%;font-family:vazir;color:#0099cc\">\n",
    "<font  color=\"#0099cc\">\n",
    "Part 2\n",
    "</font>\n",
    "</h2>\n",
    "\n",
    "<p dir=rtl style=\"direction: rtl;text-align: justify;line-height:200%;font-family:vazir;font-size:medium\">\n",
    "<font face=\"vazir\" size=3>\n",
    "اکنون ویژگی <code>ProofType</code> را به دو ویژگی قبلی اضافه کرده و این‌بار ارزها را با سه ویژگی خوشه‌بندی کنید. تقسیم‌بندی رمز‌ارزها به ۲ خوشه مطابق این خوشه‌بندی به چه صورت خواهد بود؟ نتیجه را با حالت قبل مقایسه کرده و تفسیر کنید.\n",
    "</font>\n",
    "</p>\n"
   ]
  },
  {
   "cell_type": "markdown",
   "metadata": {},
   "source": [
    "Making the changes, encoding the ProofType column and modeling:"
   ]
  },
  {
   "cell_type": "code",
   "execution_count": 46,
   "metadata": {},
   "outputs": [],
   "source": [
    "from sklearn.preprocessing import LabelEncoder\n",
    "\n",
    "label_encoder = LabelEncoder()\n",
    "coin_data['ProofType_Label'] = label_encoder.fit_transform(coin_data['ProofType'])\n",
    "\n",
    "features = coin_data[['MarketCap', 'Volume', 'ProofType_Label']]\n",
    "\n",
    "n_clusters = 3\n",
    "hc = AgglomerativeClustering(n_clusters=n_clusters, affinity='euclidean', linkage='ward')\n",
    "coin_data['Cluster'] = hc.fit_predict(features)"
   ]
  },
  {
   "cell_type": "code",
   "execution_count": 47,
   "metadata": {},
   "outputs": [
    {
     "data": {
      "image/png": "[encoded data removed]",
      "text/plain": [
       "<Figure size 1200x800 with 1 Axes>"
      ]
     },
     "metadata": {},
     "output_type": "display_data"
    }
   ],
   "source": [
    "from scipy.cluster.hierarchy import dendrogram, linkage\n",
    "import matplotlib.pyplot as plt\n",
    "\n",
    "Z = linkage(features, method='ward')\n",
    "plt.figure(figsize=(12, 8))\n",
    "dendrogram(Z, orientation='top')\n",
    "plt.title('Dendrogram')\n",
    "plt.xlabel('Data Points')\n",
    "plt.ylabel('Distance')\n",
    "\n",
    "plt.show()"
   ]
  },
  {
   "cell_type": "code",
   "execution_count": 48,
   "metadata": {},
   "outputs": [
    {
     "name": "stdout",
     "output_type": "stream",
     "text": [
      "Cryptocurrencies in Cluster 0:\n",
      "   Symbol        Volume     MarketCap      TotalSupply   ProofType  \\\n",
      "0     LEO  1.823284e+06  3.586504e+09        985239504         PoS   \n",
      "1     UNI  9.918768e+07  3.992451e+09       1000000000         PoS   \n",
      "2    WBTC  1.415410e+08  4.237575e+09           163106         PoW   \n",
      "3    AVAX  2.197065e+08  4.901630e+09        431804080         PoS   \n",
      "4     DAI  2.177113e+08  5.513661e+09       5347888596  stablecoin   \n",
      "5    SHIB  2.479944e+08  5.606251e+09  589589040239380         PoS   \n",
      "6     LTC  5.913019e+08  5.729295e+09         84000000         PoW   \n",
      "7     TRX  2.719028e+08  6.018922e+09      88996805683         PoS   \n",
      "8     DOT  2.035592e+08  6.659550e+09       1364182225         PoW   \n",
      "9   MATIC  4.232990e+08  8.053185e+09      10000000000         PoS   \n",
      "10    SOL  6.338963e+08  8.349993e+09        559509636         PoH   \n",
      "11   DOGE  6.311493e+08  1.034239e+10     141339436384         PoW   \n",
      "12    ADA  3.647996e+08  1.210914e+10      36244287753         PoS   \n",
      "13   BUSD  5.084396e+09  1.213299e+10       2213836281  stablecoin   \n",
      "14    XRP  1.349225e+09  2.358166e+10      99988380689        RPCA   \n",
      "15   USDC  3.665726e+09  3.731741e+10      25540319537  stablecoin   \n",
      "16    BNB  6.807966e+08  4.459966e+10        153845639         PoS   \n",
      "17   USDT  3.314948e+10  7.458818e+10        866300000  stablecoin   \n",
      "\n",
      "                Network  Cluster  ProofType_Label  \n",
      "0              Ethereum        0                1  \n",
      "1              Ethereum        0                1  \n",
      "2              Ethereum        0                2  \n",
      "3             Avalanche        0                1  \n",
      "4              Ethereum        0                4  \n",
      "5              Ethereum        0                1  \n",
      "6              Litecoin        0                2  \n",
      "7                  Tron        0                1  \n",
      "8              Polkadot        0                2  \n",
      "9               Polygon        0                1  \n",
      "10               Solana        0                0  \n",
      "11             Dogecoin        0                2  \n",
      "12              Cardano        0                1  \n",
      "13  Binance Smart Chain        0                4  \n",
      "14           XRP Ledger        0                3  \n",
      "15             Ethereum        0                4  \n",
      "16  Binance Smart Chain        0                1  \n",
      "17             Ethereum        0                4  \n",
      "\n",
      "Cryptocurrencies in Cluster 1:\n",
      "   Symbol        Volume     MarketCap  TotalSupply ProofType  Network  \\\n",
      "19    BTC  2.296764e+10  4.590837e+11     19508418       PoW  Bitcoin   \n",
      "\n",
      "    Cluster  ProofType_Label  \n",
      "19        1                2  \n",
      "\n",
      "Cryptocurrencies in Cluster 2:\n",
      "   Symbol        Volume     MarketCap  TotalSupply ProofType   Network  \\\n",
      "18    ETH  8.843689e+09  1.960824e+11    120249203       PoS  Ethereum   \n",
      "\n",
      "    Cluster  ProofType_Label  \n",
      "18        2                1  \n"
     ]
    }
   ],
   "source": [
    "cluster_0 = coin_data[coin_data['Cluster'] == 0]\n",
    "cluster_1 = coin_data[coin_data['Cluster'] == 1]\n",
    "cluster_2 = coin_data[coin_data['Cluster'] == 2]\n",
    "\n",
    "print(\"Cryptocurrencies in Cluster 0:\")\n",
    "print(cluster_0)\n",
    "\n",
    "print(\"\\nCryptocurrencies in Cluster 1:\")\n",
    "print(cluster_1)\n",
    "\n",
    "print(\"\\nCryptocurrencies in Cluster 2:\")\n",
    "print(cluster_2)\n"
   ]
  },
  {
   "cell_type": "markdown",
   "metadata": {},
   "source": [
    "<h2 align=left style=\"line-height:150%;font-family:vazir;color:#0099cc\">\n",
    "<font  color=\"#0099cc\">\n",
    "Cluster 0:\n",
    "</font>\n",
    "</h2>\n",
    "\n",
    "\n",
    "Contains the majority of cryptocurrencies (Symbol 0 to 17).\n",
    "It includes cryptocurrencies with various ProofTypes such as PoS, PoW, stablecoin, and RPCA.\n",
    "Market capitalizations and trading volumes in this cluster vary widely.\n",
    "The inclusion of different ProofTypes results in a diverse cluster.\n",
    "\n",
    "This cluster contains the majority of the cryptocurrencies, including LEO, UNI, WBTC, AVAX, and many others.\n",
    "\n",
    "These cryptocurrencies generally have lower market capitalization and trading volume compared to those in Cluster 1.\n",
    "Proof types in this cluster vary between PoS, PoW, stablecoin, PoH, and RPCA, indicating diversity in the types of cryptocurrencies."
   ]
  },
  {
   "cell_type": "markdown",
   "metadata": {},
   "source": [
    "<h2 align=left style=\"line-height:150%;font-family:vazir;color:#0099cc\">\n",
    "<font  color=\"#0099cc\">\n",
    "Cluster 1:\n",
    "</font>\n",
    "</h2>\n",
    "\n",
    "Contains a single cryptocurrency, which is Ethereum (ETH).\n",
    "Ethereum stands out as the only cryptocurrency in this cluster.\n",
    "Ethereum has a relatively high market capitalization and trading volume.\n",
    "\n",
    "This cluster contains the majority of the cryptocurrencies, including LEO, UNI, WBTC, AVAX, and many others.\n",
    "\n",
    "These cryptocurrencies generally have lower market capitalization and trading volume compared to those in Cluster 1.\n",
    "Proof types in this cluster vary between PoS, PoW, stablecoin, PoH, and RPCA, indicating diversity in the types of cryptocurrencies."
   ]
  },
  {
   "cell_type": "markdown",
   "metadata": {},
   "source": [
    "<h2 align=left style=\"line-height:150%;font-family:vazir;color:#0099cc\">\n",
    "<font  color=\"#0099cc\">\n",
    "Cluster 2:\n",
    "</font>\n",
    "</h2>\n",
    "\n",
    "Contains a single cryptocurrency, which is Bitcoin (BTC).\n",
    "Bitcoin is the only cryptocurrency in this cluster.\n",
    "Bitcoin stands out with the highest market capitalization and trading volume among the 20 cryptocurrencies."
   ]
  },
  {
   "cell_type": "markdown",
   "metadata": {},
   "source": [
    "<h2 align=left style=\"line-height:150%;font-family:vazir;color:#0099cc\">\n",
    "<font  color=\"#0099cc\">\n",
    "So what conclusions can we draw from these results ?\n",
    "</font>\n",
    "</h2>\n",
    "\n",
    "\n",
    "\n",
    "The choice between two or three clusters depends on the level of depth we want to conduct in our analysis. \n",
    "\n",
    "With three clusters, we can further differentiate cryptocurrencies based on their ProofType, resulting in a more detailed grouping. However, if we were to prefer a more generalized view, two clusters based on market capitalization and trading volume might be more sufficient.\n",
    "\n",
    "Ultimately, the choice of clustering method and the number of clusters should align with your specific goals and what insights you aim to gain from the data. Different clustering methods and configurations can provide varying levels of detail and may reveal different patterns in the data."
   ]
  },
  {
   "cell_type": "markdown",
   "metadata": {},
   "source": [
    "<h2 align=left style=\"line-height:200%;font-family:vazir;color:#0099cc\">\n",
    "<font  color=\"#0099cc\">\n",
    "Part 3\n",
    "</font>\n",
    "</h2>\n",
    "\n",
    "<p dir=rtl style=\"direction: rtl;text-align: justify;line-height:200%;font-family:vazir;font-size:medium\">\n",
    "<font face=\"vazir\" size=3>\n",
    "در انتها یک یا چند ویژگی که فکر می‌کنید منجر به یک خوشه‌بندی بامعنا و تفسیرپذیرتر خواهد شد را نیز در نظر گرفته و آزمایش را مجدد تکرار کنید. در این بخش می‌توانید هر نوع ویژگی مرتبطی که قابل استدلال باشد را اضافه کنید (مثل ستون <code>Network</code> در مجموعه‌داده‌ی فعلی).\n",
    "</font>\n",
    "</p>\n",
    "\n"
   ]
  },
  {
   "cell_type": "markdown",
   "metadata": {},
   "source": [
    "Adding the Network to features and encoding it:"
   ]
  },
  {
   "cell_type": "code",
   "execution_count": 49,
   "metadata": {},
   "outputs": [],
   "source": [
    "from sklearn.preprocessing import LabelEncoder\n",
    "\n",
    "label_encoder = LabelEncoder()\n",
    "coin_data['Network_Label'] = label_encoder.fit_transform(coin_data['Network'])\n",
    "\n",
    "\n",
    "features = coin_data[['MarketCap', 'Volume', 'ProofType_Label', 'Network_Label']]"
   ]
  },
  {
   "cell_type": "markdown",
   "metadata": {},
   "source": [
    "Ploting the dendogram:"
   ]
  },
  {
   "cell_type": "code",
   "execution_count": 50,
   "metadata": {},
   "outputs": [
    {
     "data": {
      "image/png": "[encoded data removed]",
      "text/plain": [
       "<Figure size 1200x800 with 1 Axes>"
      ]
     },
     "metadata": {},
     "output_type": "display_data"
    }
   ],
   "source": [
    "from scipy.cluster.hierarchy import dendrogram, linkage\n",
    "import matplotlib.pyplot as plt\n",
    "\n",
    "Z = linkage(features, method='ward')\n",
    "plt.figure(figsize=(12, 8))\n",
    "dendrogram(Z, orientation='top')\n",
    "plt.title('Dendrogram')\n",
    "plt.xlabel('Data Points')\n",
    "plt.ylabel('Distance')\n",
    "\n",
    "plt.show()"
   ]
  },
  {
   "cell_type": "markdown",
   "metadata": {},
   "source": [
    "As we can see, the vertical distance is greaterin the blue line indicating that the desired number of clusters is 2"
   ]
  },
  {
   "cell_type": "code",
   "execution_count": 51,
   "metadata": {},
   "outputs": [
    {
     "name": "stdout",
     "output_type": "stream",
     "text": [
      "Cryptocurrencies in Cluster 0:\n",
      "   Symbol        Volume     MarketCap      TotalSupply   ProofType  \\\n",
      "0     LEO  1.823284e+06  3.586504e+09        985239504         PoS   \n",
      "1     UNI  9.918768e+07  3.992451e+09       1000000000         PoS   \n",
      "2    WBTC  1.415410e+08  4.237575e+09           163106         PoW   \n",
      "3    AVAX  2.197065e+08  4.901630e+09        431804080         PoS   \n",
      "4     DAI  2.177113e+08  5.513661e+09       5347888596  stablecoin   \n",
      "5    SHIB  2.479944e+08  5.606251e+09  589589040239380         PoS   \n",
      "6     LTC  5.913019e+08  5.729295e+09         84000000         PoW   \n",
      "7     TRX  2.719028e+08  6.018922e+09      88996805683         PoS   \n",
      "8     DOT  2.035592e+08  6.659550e+09       1364182225         PoW   \n",
      "9   MATIC  4.232990e+08  8.053185e+09      10000000000         PoS   \n",
      "10    SOL  6.338963e+08  8.349993e+09        559509636         PoH   \n",
      "11   DOGE  6.311493e+08  1.034239e+10     141339436384         PoW   \n",
      "12    ADA  3.647996e+08  1.210914e+10      36244287753         PoS   \n",
      "13   BUSD  5.084396e+09  1.213299e+10       2213836281  stablecoin   \n",
      "14    XRP  1.349225e+09  2.358166e+10      99988380689        RPCA   \n",
      "15   USDC  3.665726e+09  3.731741e+10      25540319537  stablecoin   \n",
      "16    BNB  6.807966e+08  4.459966e+10        153845639         PoS   \n",
      "17   USDT  3.314948e+10  7.458818e+10        866300000  stablecoin   \n",
      "18    ETH  8.843689e+09  1.960824e+11        120249203         PoS   \n",
      "\n",
      "                Network  Cluster  ProofType_Label  Network_Label  \n",
      "0              Ethereum        0                1              5  \n",
      "1              Ethereum        0                1              5  \n",
      "2              Ethereum        0                2              5  \n",
      "3             Avalanche        0                1              0  \n",
      "4              Ethereum        0                4              5  \n",
      "5              Ethereum        0                1              5  \n",
      "6              Litecoin        0                2              6  \n",
      "7                  Tron        0                1             10  \n",
      "8              Polkadot        0                2              7  \n",
      "9               Polygon        0                1              8  \n",
      "10               Solana        0                0              9  \n",
      "11             Dogecoin        0                2              4  \n",
      "12              Cardano        0                1              3  \n",
      "13  Binance Smart Chain        0                4              1  \n",
      "14           XRP Ledger        0                3             11  \n",
      "15             Ethereum        0                4              5  \n",
      "16  Binance Smart Chain        0                1              1  \n",
      "17             Ethereum        0                4              5  \n",
      "18             Ethereum        0                1              5  \n",
      "\n",
      "Cryptocurrencies in Cluster 1:\n",
      "   Symbol        Volume     MarketCap  TotalSupply ProofType  Network  \\\n",
      "19    BTC  2.296764e+10  4.590837e+11     19508418       PoW  Bitcoin   \n",
      "\n",
      "    Cluster  ProofType_Label  Network_Label  \n",
      "19        1                2              2  \n"
     ]
    }
   ],
   "source": [
    "n_clusters = 2\n",
    "hc = AgglomerativeClustering(n_clusters=n_clusters, affinity='euclidean', linkage='ward')\n",
    "coin_data['Cluster'] = hc.fit_predict(features)\n",
    "\n",
    "cluster_0 = coin_data[coin_data['Cluster'] == 0]\n",
    "cluster_1 = coin_data[coin_data['Cluster'] == 1]\n",
    "\n",
    "print(\"Cryptocurrencies in Cluster 0:\")\n",
    "print(cluster_0)\n",
    "\n",
    "print(\"\\nCryptocurrencies in Cluster 1:\")\n",
    "print(cluster_1)"
   ]
  },
  {
   "cell_type": "markdown",
   "metadata": {},
   "source": [
    "As we can see, adding the \"Network\" feature helped in creating more interpretable and meaningful clusters. \n",
    "\n",
    "When we initially clustered the data using only the \"MarketCap,\" \"Volume,\" and \"ProofType_Label\" features, the clusters did not show distinct patterns. However, after adding the \"Network\" feature and performing clustering with it, the clusters became more interpretable. \n",
    "\n",
    "This suggests that the \"Network\" feature provided valuable information for distinguishing between cryptocurrencies."
   ]
  }
 ],
 "metadata": {
  "kernelspec": {
   "display_name": "Python 3",
   "language": "python",
   "name": "python3"
  },
  "language_info": {
   "codemirror_mode": {
    "name": "ipython",
    "version": 3
   },
   "file_extension": ".py",
   "mimetype": "text/x-python",
   "name": "python",
   "nbconvert_exporter": "python",
   "pygments_lexer": "ipython3",
   "version": "3.10.2"
  },
  "orig_nbformat": 4
 },
 "nbformat": 4,
 "nbformat_minor": 2
}
